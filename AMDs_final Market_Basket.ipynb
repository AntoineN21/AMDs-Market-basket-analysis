{
  "cells": [
    {
      "cell_type": "markdown",
      "metadata": {
        "id": "qZDWJ1c3JqMJ"
      },
      "source": [
        "##Market Basket Analysis\n",
        "\n",
        "#importing section\n",
        "\n"
      ]
    },
    {
      "cell_type": "code",
      "execution_count": 1,
      "metadata": {
        "colab": {
          "base_uri": "https://localhost:8080/"
        },
        "id": "2XA73Pldw19v",
        "outputId": "562615d3-d4d4-404a-9dc3-f42af130a5ef"
      },
      "outputs": [
        {
          "output_type": "stream",
          "name": "stdout",
          "text": [
            "Requirement already satisfied: mrjob in /usr/local/lib/python3.10/dist-packages (0.7.4)\n",
            "Requirement already satisfied: PyYAML>=3.10 in /usr/local/lib/python3.10/dist-packages (from mrjob) (6.0.1)\n"
          ]
        }
      ],
      "source": [
        "!pip install mrjob"
      ]
    },
    {
      "cell_type": "code",
      "execution_count": 2,
      "metadata": {
        "id": "1Y9hf9Ed9JkP"
      },
      "outputs": [],
      "source": [
        "import pandas as pd\n",
        "import numpy as np\n",
        "import matplotlib.pyplot as plt\n",
        "import zipfile\n",
        "import os\n",
        "import json\n",
        "from tqdm import tqdm\n",
        "import nltk\n",
        "from nltk.corpus import stopwords\n",
        "from nltk.tokenize import word_tokenize\n",
        "from itertools import combinations\n",
        "from collections import defaultdict\n",
        "import time\n",
        "import pickle\n",
        "import seaborn as sns\n",
        "plt.style.use('ggplot')\n",
        "sns.set()\n",
        "from mrjob.job import MRJob\n",
        "from mrjob.step import MRStep"
      ]
    },
    {
      "cell_type": "markdown",
      "metadata": {
        "id": "6FAG30e8LAGd"
      },
      "source": [
        "Initialize: firstly we need to delete the directory named \"market-basket-analysis\" and all its contents recursively if it is already existed"
      ]
    },
    {
      "cell_type": "code",
      "execution_count": 7,
      "metadata": {
        "id": "iiHnxl3iLSgN",
        "colab": {
          "base_uri": "https://localhost:8080/"
        },
        "outputId": "794ab46c-725f-4958-e025-1f63a97fa9fa"
      },
      "outputs": [
        {
          "output_type": "stream",
          "name": "stdout",
          "text": [
            "rm: cannot remove 'AMDs-Market-basket-analysis': No such file or directory\n"
          ]
        }
      ],
      "source": [
        "!rm -r AMDs-Market-basket-analysis"
      ]
    },
    {
      "cell_type": "markdown",
      "metadata": {
        "id": "sH0MeZT2L-dP"
      },
      "source": [
        "and now after we need to clone \"AMDs-Market-basket-analysis\"\n"
      ]
    },
    {
      "cell_type": "code",
      "execution_count": 8,
      "metadata": {
        "colab": {
          "base_uri": "https://localhost:8080/"
        },
        "id": "r8ObIBXwL9zL",
        "outputId": "5b10a123-30df-4a1a-b79d-137124165f17"
      },
      "outputs": [
        {
          "output_type": "stream",
          "name": "stdout",
          "text": [
            "Cloning into 'AMDs-Market-basket-analysis'...\n",
            "remote: Enumerating objects: 197, done.\u001b[K\n",
            "remote: Counting objects: 100% (82/82), done.\u001b[K\n",
            "remote: Compressing objects: 100% (82/82), done.\u001b[K\n",
            "remote: Total 197 (delta 27), reused 0 (delta 0), pack-reused 115\u001b[K\n",
            "Receiving objects: 100% (197/197), 91.02 KiB | 991.00 KiB/s, done.\n",
            "Resolving deltas: 100% (61/61), done.\n"
          ]
        }
      ],
      "source": [
        "!git clone https://github.com/AntoineN21/AMDs-Market-basket-analysis.git"
      ]
    },
    {
      "cell_type": "code",
      "execution_count": 9,
      "metadata": {
        "colab": {
          "base_uri": "https://localhost:8080/"
        },
        "id": "mHRMXPlRNrBr",
        "outputId": "d582a901-b5fb-43fa-d7cb-1be6479d6c11"
      },
      "outputs": [
        {
          "output_type": "stream",
          "name": "stdout",
          "text": [
            "Downloading yelp-dataset.zip to /content\n",
            "100% 4.06G/4.07G [00:53<00:00, 47.3MB/s]\n",
            "100% 4.07G/4.07G [00:53<00:00, 82.3MB/s]\n"
          ]
        }
      ],
      "source": [
        "os.environ['KAGGLE_USERNAME'] = \"antoinenasra\"\n",
        "os.environ['KAGGLE_KEY'] = \"76b8324d7f603ad73a40084d6122d91f\"\n",
        "!kaggle datasets download -d yelp-dataset/yelp-dataset"
      ]
    },
    {
      "cell_type": "code",
      "execution_count": 10,
      "metadata": {
        "colab": {
          "base_uri": "https://localhost:8080/"
        },
        "id": "QqTQLBQuVx38",
        "outputId": "ebb8179f-f260-4b7e-dc9a-b14da70eea40"
      },
      "outputs": [
        {
          "output_type": "stream",
          "name": "stdout",
          "text": [
            "Archive:  yelp-dataset.zip\n",
            "  inflating: ./market-basket-analysis/yelp_academic_dataset_review.json  \n"
          ]
        }
      ],
      "source": [
        "!unzip -j \"yelp-dataset.zip\" \"yelp_academic_dataset_review.json\" -d \"./market-basket-analysis\""
      ]
    },
    {
      "cell_type": "code",
      "execution_count": 11,
      "metadata": {
        "colab": {
          "base_uri": "https://localhost:8080/"
        },
        "id": "EqiJjawIXCtZ",
        "outputId": "390c4431-10f7-4ce6-b182-e0b839be6c63"
      },
      "outputs": [
        {
          "output_type": "stream",
          "name": "stdout",
          "text": [
            "[nltk_data] Downloading package stopwords to /root/nltk_data...\n",
            "[nltk_data]   Unzipping corpora/stopwords.zip.\n",
            "100it [02:43,  1.64s/it]\n",
            "Number of transactions: 1000000\n"
          ]
        }
      ],
      "source": [
        "!python3 ./AMDs-Market-basket-analysis/preprocess.py"
      ]
    },
    {
      "cell_type": "markdown",
      "metadata": {
        "id": "KBMz2KYQ9kaX"
      },
      "source": [
        "In order to utilize multiprocessing and overcome the crashing issue when using it directly in the colab, we employed a separate .py file named \"preprocess.py\" located in the same folder as this notebook. Within the \"preprocess.py\" file, we performed the processing of buckets and tokenization. As a result, it generated the \"transactions.pkl\" file, which we subsequently utilize in this notebook."
      ]
    },
    {
      "cell_type": "code",
      "execution_count": 12,
      "metadata": {
        "id": "JivdWGStXpcd"
      },
      "outputs": [],
      "source": [
        "# Load transactions from a file\n",
        "transactions = []\n",
        "with open('transactions.pkl', 'rb') as f:\n",
        "    transactions = pickle.load(f)"
      ]
    },
    {
      "cell_type": "code",
      "execution_count": 28,
      "metadata": {
        "colab": {
          "base_uri": "https://localhost:8080/"
        },
        "id": "6YbQbeRiqAbR",
        "outputId": "b83b53cb-9c40-4b59-de8b-7a339d52a3f4"
      },
      "outputs": [
        {
          "output_type": "stream",
          "name": "stdout",
          "text": [
            "Transaction 1: ['decide', 'eat', 'aware', 'going', 'take', 'hours', 'beginning', 'end', 'tried', 'multiple', 'times', 'want', 'like', 'locations', 'nj', 'never', 'bad', 'experience', 'food', 'good', 'takes', 'long', 'time', 'come', 'waitstaff', 'young', 'usually', 'pleasant', 'many', 'experiences', 'spent', 'way', 'long', 'waiting', 'usually', 'opt', 'another', 'diner', 'restaurant', 'weekends', 'order', 'done', 'quicker']\n",
            "Transaction 2: ['taken', 'lot', 'spin', 'classes', 'years', 'nothing', 'compares', 'classes', 'body', 'cycle', 'nice', 'clean', 'space', 'amazing', 'bikes', 'welcoming', 'motivating', 'instructors', 'every', 'class', 'top', 'notch', 'work', 'anyone', 'struggles', 'fit', 'workouts', 'online', 'scheduling', 'system', 'makes', 'easy', 'plan', 'ahead', 'need', 'line', 'way', 'advanced', 'like', 'many', 'gyms', 'make', 'way', 'write', 'review', 'without', 'giving', 'russell', 'owner', 'body', 'cycle', 'shout', 'russell', 'passion', 'fitness', 'cycling', 'evident', 'desire', 'clients', 'succeed', 'always', 'dropping', 'classes', 'check', 'provide', 'encouragement', 'open', 'ideas', 'recommendations', 'anyone', 'russell', 'always', 'wears', 'smile', 'face', 'even', 'kicking', 'butt', 'class']\n",
            "Transaction 3: ['family', 'diner', 'buffet', 'eclectic', 'assortment', 'large', 'chicken', 'leg', 'fried', 'jalape', 'tamale', 'two', 'rolled', 'grape', 'leaves', 'fresh', 'melon', 'good', 'lots', 'mexican', 'choices', 'also', 'menu', 'breakfast', 'served', 'day', 'long', 'friendly', 'attentive', 'staff', 'good', 'place', 'casual', 'relaxed', 'meal', 'expectations', 'next', 'clarion', 'hotel']\n",
            "Transaction 4: ['wow', 'yummy', 'different', 'delicious', 'favorite', 'lamb', 'curry', 'korma', 'different', 'kinds', 'naan', 'let', 'outside', 'deter', 'almost', 'changed', 'minds', 'go', 'try', 'something', 'new', 'glad']\n",
            "Transaction 5: ['cute', 'interior', 'owner', 'gave', 'us', 'tour', 'upcoming', 'patio', 'rooftop', 'area', 'great', 'beautiful', 'days', 'like', 'today', 'cheese', 'curds', 'good', 'filling', 'really', 'like', 'sandwiches', 'come', 'w', 'salad', 'esp', 'eating', 'many', 'curds', 'onion', 'gruyere', 'tomato', 'sandwich', 'much', 'cheese', 'liked', 'needed', 'something', 'else', 'pepper', 'jelly', 'maybe', 'would', 'like', 'see', 'menu', 'options', 'added', 'salads', 'w', 'fun', 'cheeses', 'lots', 'beer', 'wine', 'well', 'limited', 'cocktails', 'next', 'time', 'try', 'one', 'draft', 'wines']\n"
          ]
        }
      ],
      "source": [
        "import pickle as pkl\n",
        "\n",
        "# Load the transactions from the pickle file\n",
        "with open('transactions.pkl', 'rb') as f:\n",
        "    transactions = pkl.load(f)\n",
        "\n",
        "# Display a small portion of the data\n",
        "num_samples = 5\n",
        "sample_data = transactions[:num_samples]\n",
        "for i, transaction in enumerate(sample_data, start=1):\n",
        "    print(f\"Transaction {i}: {transaction}\")"
      ]
    },
    {
      "cell_type": "code",
      "source": [
        "num_items = [len(t) for t in transactions]\n",
        "\n",
        "plt.hist(num_items, bins=100)\n",
        "plt.xlabel('Number of Items')\n",
        "plt.ylabel('Number of Transactions')\n",
        "plt.title('Histogram of Number of Items in Each Transaction')\n",
        "#Drawing a vertical line at the average number of items\n",
        "plt.axvline(int(np.mean(num_items)), color='red', linestyle='dashed', linewidth=1)\n",
        "#Displaying the average number of items on the x-axis\n",
        "plt.text(int(np.mean(num_items)), 40000, 'Average = {:d}'.format(int(np.mean(num_items))), rotation=90, va='bottom', color='red', fontsize=10, fontweight='bold')\n",
        "plt.show()"
      ],
      "metadata": {
        "colab": {
          "base_uri": "https://localhost:8080/",
          "height": 472
        },
        "id": "e9F5y1mjGJj1",
        "outputId": "84d93178-7afb-4483-bb59-fe87921aa7d7"
      },
      "execution_count": 29,
      "outputs": [
        {
          "output_type": "display_data",
          "data": {
            "text/plain": [
              "<Figure size 640x480 with 1 Axes>"
            ],
            "image/png": "[encoded data removed]"
          },
          "metadata": {}
        }
      ]
    },
    {
      "cell_type": "markdown",
      "metadata": {
        "id": "CCosHGp7Fr4b"
      },
      "source": [
        "#Analyze Market Basket"
      ]
    },
    {
      "cell_type": "markdown",
      "metadata": {
        "id": "fSKS-ClveRcG"
      },
      "source": [
        "#FP-Growth Algorithm"
      ]
    },
    {
      "cell_type": "markdown",
      "metadata": {
        "id": "NfOahsJqlQNl"
      },
      "source": [
        "Define the FPNode Class"
      ]
    },
    {
      "cell_type": "code",
      "execution_count": null,
      "metadata": {
        "id": "RHo1v88rlneD"
      },
      "outputs": [],
      "source": [
        "class FPNode:\n",
        "    def __init__(self, item=None, count=1, parent=None):\n",
        "        self.item = item\n",
        "        self.count = count\n",
        "        self.parent = parent\n",
        "        self.children = defaultdict(FPNode)  # Use defaultdict to automatically create child nodes\n",
        "\n",
        "    def increment_count(self):\n",
        "        self.count += 1\n"
      ]
    },
    {
      "cell_type": "markdown",
      "metadata": {
        "id": "FORshgqNnHe_"
      },
      "source": [
        "Define the construct_FP_tree function"
      ]
    },
    {
      "cell_type": "code",
      "execution_count": null,
      "metadata": {
        "id": "3HPU_EQnnHMz"
      },
      "outputs": [],
      "source": [
        "def construct_FP_tree(transactions, min_support):\n",
        "    item_counts = defaultdict(int)\n",
        "    for transaction in transactions:\n",
        "        for item in transaction:\n",
        "            item_counts[item] += 1\n",
        "\n",
        "    # Filter out infrequent items\n",
        "    item_counts = {item: count for item, count in item_counts.items() if count >= min_support}\n",
        "\n",
        "    # Sort items by frequency\n",
        "    frequent_items = sorted(item_counts.keys(), key=lambda item: item_counts[item], reverse=True)\n",
        "\n",
        "    root = FPNode(None, 0, None)\n",
        "\n",
        "    # Construct the FP-Tree\n",
        "    for transaction in transactions:\n",
        "        # Keep only frequent items and sort them\n",
        "        transaction = [item for item in transaction if item in frequent_items]\n",
        "        transaction.sort(key=lambda item: item_counts[item], reverse=True)\n",
        "\n",
        "        # Traverse the FP-Tree, updating or creating nodes\n",
        "        current_node = root\n",
        "        for item in transaction:\n",
        "            if item in current_node.children:\n",
        "                current_node.children[item].increment_count()\n",
        "            else:\n",
        "                current_node.children[item] = FPNode(item, 1, current_node)\n",
        "            current_node = current_node.children[item]\n",
        "\n",
        "    return root, frequent_items, item_counts"
      ]
    },
    {
      "cell_type": "markdown",
      "metadata": {
        "id": "ftmEbUEgYyp9"
      },
      "source": [
        "Define the mine_frequent_itemsets function"
      ]
    },
    {
      "cell_type": "code",
      "execution_count": null,
      "metadata": {
        "id": "LFrfa59fYzOQ"
      },
      "outputs": [],
      "source": [
        "\n",
        "def mine_frequent_itemsets(root, min_support):\n",
        "    frequent_itemsets = []\n",
        "\n",
        "    def find_support(itemset):\n",
        "        \"\"\"Find the support of an itemset by checking the minimum support of its items in the tree.\"\"\"\n",
        "        return min([item_counts[item] for item in itemset])\n",
        "\n",
        "    def mine_subtree(node, suffix):\n",
        "        \"\"\"Recursively mine the tree.\"\"\"\n",
        "        for item, child_node in node.children.items():\n",
        "          if item not in suffix: #check\n",
        "            new_suffix = suffix + [item]\n",
        "            support = find_support(new_suffix)\n",
        "            if support >= min_support:\n",
        "                frequent_itemsets.append((new_suffix, support))\n",
        "                mine_subtree(child_node, new_suffix)\n",
        "\n",
        "    mine_subtree(root, [])\n",
        "    return frequent_itemsets\n",
        "\n",
        "\n",
        "\n"
      ]
    },
    {
      "cell_type": "code",
      "execution_count": null,
      "metadata": {
        "id": "1tyrpH-x0irh"
      },
      "outputs": [],
      "source": [
        "def get_item_counts_from_transactions(transactions, min_support):\n",
        "    item_counts = defaultdict(int)\n",
        "    for transaction in transactions:\n",
        "        for item in transaction:\n",
        "            item_counts[item] += 1\n",
        "\n",
        "    # Filter out items below the minimum support threshold\n",
        "    return {item: count for item, count in item_counts.items() if count >= min_support}\n",
        "\n"
      ]
    },
    {
      "cell_type": "markdown",
      "metadata": {
        "id": "e8SjIyMPY42z"
      },
      "source": [
        "Define the generate_association_rules function"
      ]
    },
    {
      "cell_type": "code",
      "execution_count": null,
      "metadata": {
        "id": "ZIkT_dqOY7PW"
      },
      "outputs": [],
      "source": [
        "from itertools import combinations\n",
        "\n",
        "def generate_association_rules(frequent_itemsets, item_counts, min_confidence):\n",
        "    association_rules = []\n",
        "\n",
        "    def get_itemset_support(itemset):\n",
        "        \"\"\"Get the support of the itemset, defined as the minimum support of its items.\"\"\"\n",
        "        return min([item_counts.get(item, 0) for item in itemset])\n",
        "\n",
        "    for itemset, itemset_support in frequent_itemsets:\n",
        "        if len(itemset) < 2:\n",
        "            continue\n",
        "\n",
        "        for i in range(1, len(itemset)):\n",
        "            for antecedent in combinations(itemset, i):\n",
        "                antecedent_support = get_itemset_support(antecedent)\n",
        "\n",
        "                if antecedent_support == 0:\n",
        "                    continue\n",
        "\n",
        "                consequent = tuple(set(itemset) - set(antecedent))\n",
        "                confidence = itemset_support / antecedent_support\n",
        "\n",
        "                if confidence >= min_confidence:\n",
        "                    association_rules.append((antecedent, consequent, itemset_support, confidence))\n",
        "\n",
        "    return association_rules\n",
        "\n"
      ]
    },
    {
      "cell_type": "markdown",
      "metadata": {
        "id": "cFah-wqUZTSd"
      },
      "source": [
        " Construct the FP-Tree and mine frequent itemsets"
      ]
    },
    {
      "cell_type": "code",
      "execution_count": null,
      "metadata": {
        "colab": {
          "base_uri": "https://localhost:8080/"
        },
        "id": "iNbMBDxNZU-C",
        "outputId": "7dad98aa-a45b-4aa4-da98-7a53d90f58e1"
      },
      "outputs": [
        {
          "output_type": "stream",
          "name": "stdout",
          "text": [
            "Number of frequent itemsets: 234\n",
            "Some frequent itemsets: [(['good'], 39), (['good', 'food'], 35), (['good', 'food', 'like'], 31), (['good', 'food', 'like', 'time'], 19), (['good', 'food', 'like', 'time', 'restaurant'], 15), (['good', 'food', 'like', 'time', 'restaurant', 'going'], 12), (['good', 'food', 'like', 'time', 'restaurant', 'going', 'way'], 12), (['good', 'food', 'like', 'time', 'restaurant', 'going', 'way', 'want'], 11), (['good', 'food', 'like', 'time', 'restaurant', 'going', 'way', 'want', 'experience'], 11), (['good', 'food', 'like', 'time', 'restaurant', 'going', 'way', 'want', 'experience', 'many'], 11)]\n",
            "Number of association rules: 78522\n",
            "Some association rules: [(('good',), ('food',), 35, 0.8974358974358975), (('food',), ('good',), 35, 1.0), (('food',), ('good', 'like'), 31, 0.8857142857142857), (('like',), ('food', 'good'), 31, 1.0), (('good', 'food'), ('like',), 31, 0.8857142857142857), (('good', 'like'), ('food',), 31, 1.0), (('food', 'like'), ('good',), 31, 1.0), (('time',), ('food', 'good', 'like'), 19, 1.0), (('good', 'time'), ('food', 'like'), 19, 1.0), (('food', 'time'), ('good', 'like'), 19, 1.0)]\n"
          ]
        }
      ],
      "source": [
        "\n",
        "# Define the number of transactions to test\n",
        "num_transactions_to_test = 75\n",
        "\n",
        "# Slice the transactions dataset\n",
        "test_transactions = transactions[:num_transactions_to_test]\n",
        "\n",
        "# Define minimum support and confidence thresholds\n",
        "min_support = 5\n",
        "min_confidence = 0.8\n",
        "\n",
        "# Construct the FP-Tree with the sliced dataset\n",
        "root, frequent_items, item_counts = construct_FP_tree(test_transactions, min_support)\n",
        "\n",
        "# Mine the frequent itemsets from the FP-Tree\n",
        "frequent_itemsets = mine_frequent_itemsets(root, min_support)\n",
        "print(f\"Number of frequent itemsets: {len(frequent_itemsets)}\")\n",
        "print(\"Some frequent itemsets:\", frequent_itemsets[:10])  # Display the first 10\n",
        "\n",
        "# Generate association rules from the frequent itemsets (if needed)\n",
        "association_rules = generate_association_rules(frequent_itemsets, item_counts, min_confidence)\n",
        "print(f\"Number of association rules: {len(association_rules)}\")\n",
        "print(\"Some association rules:\", association_rules[:10])  # Display the first 10\n"
      ]
    },
    {
      "cell_type": "markdown",
      "metadata": {
        "id": "9xp_AD4HZcSu"
      },
      "source": [
        " Print the frequent itemsets and association rules"
      ]
    },
    {
      "cell_type": "code",
      "execution_count": null,
      "metadata": {
        "id": "iCpgNHN4ZidX",
        "colab": {
          "base_uri": "https://localhost:8080/"
        },
        "outputId": "3fdac5d9-a961-40a7-ded3-44101f5fc77d"
      },
      "outputs": [
        {
          "output_type": "stream",
          "name": "stdout",
          "text": [
            "Frequent Itemsets:\n",
            "['good'] Support: 39\n",
            "['good', 'food'] Support: 35\n",
            "['good', 'food', 'like'] Support: 31\n",
            "['good', 'food', 'like', 'time'] Support: 19\n",
            "['good', 'food', 'like', 'time', 'restaurant'] Support: 15\n",
            "['good', 'food', 'like', 'time', 'restaurant', 'going'] Support: 12\n",
            "['good', 'food', 'like', 'time', 'restaurant', 'going', 'way'] Support: 12\n",
            "['good', 'food', 'like', 'time', 'restaurant', 'going', 'way', 'want'] Support: 11\n",
            "['good', 'food', 'like', 'time', 'restaurant', 'going', 'way', 'want', 'experience'] Support: 11\n",
            "['good', 'food', 'like', 'time', 'restaurant', 'going', 'way', 'want', 'experience', 'many'] Support: 11\n",
            "\n",
            "Association Rules:\n",
            "Antecedent: ('good',) Consequent: ('food',) Support: 35 Confidence: 0.8974358974358975\n",
            "Antecedent: ('food',) Consequent: ('good',) Support: 35 Confidence: 1.0\n",
            "Antecedent: ('food',) Consequent: ('good', 'like') Support: 31 Confidence: 0.8857142857142857\n",
            "Antecedent: ('like',) Consequent: ('food', 'good') Support: 31 Confidence: 1.0\n",
            "Antecedent: ('good', 'food') Consequent: ('like',) Support: 31 Confidence: 0.8857142857142857\n",
            "Antecedent: ('good', 'like') Consequent: ('food',) Support: 31 Confidence: 1.0\n",
            "Antecedent: ('food', 'like') Consequent: ('good',) Support: 31 Confidence: 1.0\n",
            "Antecedent: ('time',) Consequent: ('food', 'good', 'like') Support: 19 Confidence: 1.0\n",
            "Antecedent: ('good', 'time') Consequent: ('food', 'like') Support: 19 Confidence: 1.0\n",
            "Antecedent: ('food', 'time') Consequent: ('good', 'like') Support: 19 Confidence: 1.0\n"
          ]
        }
      ],
      "source": [
        "print(\"Frequent Itemsets:\")\n",
        "count = 0\n",
        "for itemset, support in frequent_itemsets:\n",
        "    if count < 10:\n",
        "        print(itemset, \"Support:\", support)\n",
        "        count += 1\n",
        "    else:\n",
        "        break\n",
        "\n",
        "print(\"\\nAssociation Rules:\")\n",
        "count = 0\n",
        "for antecedent, consequent, support, confidence in association_rules:\n",
        "    if count < 10:\n",
        "        print(\"Antecedent:\", antecedent, \"Consequent:\", consequent, \"Support:\", support, \"Confidence:\", confidence)\n",
        "        count += 1\n",
        "    else:\n",
        "        break"
      ]
    },
    {
      "cell_type": "markdown",
      "metadata": {
        "id": "YHWIJoJ5ePbt"
      },
      "source": [
        "--------------------------------------------------------------"
      ]
    },
    {
      "cell_type": "markdown",
      "metadata": {
        "id": "8woMhywpk5Mj"
      },
      "source": [
        "#PCY Algorithem\n",
        "\n",
        ">\n",
        "\n"
      ]
    },
    {
      "cell_type": "markdown",
      "metadata": {
        "id": "p9QKlejonYI6"
      },
      "source": [
        "Define PCY algorithem"
      ]
    },
    {
      "cell_type": "code",
      "source": [
        "\n",
        "\n",
        "def PCY_algorithm(transactions, minimum_support, size_of_hash_table):\n",
        "    # Initial pass - Count individual items\n",
        "    count_of_single_items = {}\n",
        "    for transaction in transactions:\n",
        "        for item in transaction:\n",
        "            if item in count_of_single_items:\n",
        "                count_of_single_items[item] += 1\n",
        "            else:\n",
        "                count_of_single_items[item] = 1\n",
        "\n",
        "    # Identify items that meet the minimum support threshold\n",
        "    items_meeting_min_support = {\n",
        "        item for item, count in count_of_single_items.items() if count >= minimum_support\n",
        "    }\n",
        "\n",
        "    # Second pass - Identify frequent pairs and triplets\n",
        "    counts_of_candidates = {}\n",
        "    hash_table = np.zeros(size_of_hash_table, dtype=int)\n",
        "\n",
        "    # Iterate through each transaction\n",
        "    for transaction in tqdm(transactions):\n",
        "        transaction_items = set(transaction)\n",
        "\n",
        "        # Generate all possible pairs from the transaction\n",
        "        possible_pairs = combinations(transaction_items, 2)\n",
        "        frequent_pairs = [\n",
        "            (item1, item2) for item1, item2 in possible_pairs\n",
        "            if item1 in items_meeting_min_support and item2 in items_meeting_min_support\n",
        "        ]\n",
        "\n",
        "        # Count these pairs both in the hash table and separately\n",
        "        for pair in frequent_pairs:\n",
        "            hash_index = hash(pair) % size_of_hash_table\n",
        "            hash_table[hash_index] += 1\n",
        "            counts_of_candidates[pair] = counts_of_candidates.get(pair, 0) + 1\n",
        "\n",
        "        # Similarly, generate and count all possible triplets\n",
        "        possible_triplets = combinations(transaction_items, 3)\n",
        "        frequent_triplets = [\n",
        "            (item1, item2, item3) for item1, item2, item3 in possible_triplets\n",
        "            if (item1, item2) in frequent_pairs and\n",
        "               (item1, item3) in frequent_pairs and\n",
        "               (item2, item3) in frequent_pairs\n",
        "        ]\n",
        "\n",
        "        for triplet in frequent_triplets:\n",
        "            hash_index = hash(triplet) % size_of_hash_table\n",
        "            hash_table[hash_index] += 1\n",
        "            counts_of_candidates[triplet] = counts_of_candidates.get(triplet, 0) + 1\n",
        "\n",
        "    # Select itemsets that are frequent according to both minimum support and hash table counts\n",
        "    frequent_itemsets = [\n",
        "        (itemset, count) for itemset, count in counts_of_candidates.items()\n",
        "        if count >= minimum_support and hash_table[hash(itemset) % size_of_hash_table] >= minimum_support\n",
        "    ]\n",
        "\n",
        "    return frequent_itemsets\n",
        "\n",
        "\n"
      ],
      "metadata": {
        "id": "l0cC3FY3UwSk"
      },
      "execution_count": 10,
      "outputs": []
    },
    {
      "cell_type": "code",
      "source": [
        "# Number of transactions to consider for the test\n",
        "num_transactions_to_test = 1000\n",
        "\n",
        "# Parameters for the PCY algorithm\n",
        "minimum_support_threshold = 100\n",
        "size_of_hash_table = 10000\n",
        "\n",
        "# Execute the PCY algorithm with a subset of transactions\n",
        "# (first 1000 transactions in this case)\n",
        "tested_frequent_itemsets = PCY_algorithm(transactions[:num_transactions_to_test],\n",
        "                                         minimum_support_threshold,\n",
        "                                         size_of_hash_table)\n",
        "\n",
        "# Display the frequent itemsets found in the test\n",
        "print(\"Frequent Itemsets:\")\n",
        "for itemset in tested_frequent_itemsets[:20]:\n",
        "    print(itemset)\n",
        "\n",
        "# Write all the frequent itemsets to a file\n",
        "with open('/content/AMDs-Market-basket-analysis/frequent_itemsets.txt', 'w') as file:\n",
        "    for itemset in tested_frequent_itemsets:\n",
        "        file.write(f\"{itemset}\\n\")\n"
      ],
      "metadata": {
        "id": "J81CnXEqny8V",
        "colab": {
          "base_uri": "https://localhost:8080/"
        },
        "outputId": "7037e6bf-60fe-4e5e-fcda-d137cbe35da8"
      },
      "execution_count": 13,
      "outputs": [
        {
          "output_type": "stream",
          "name": "stderr",
          "text": [
            "100%|██████████| 1000/1000 [06:47<00:00,  2.45it/s]"
          ]
        },
        {
          "output_type": "stream",
          "name": "stdout",
          "text": [
            "Frequent Itemsets:\n",
            "(('good', 'food'), 167)\n",
            "(('good', 'place'), 139)\n",
            "(('great', 'place'), 113)\n",
            "(('good', 'service'), 102)\n",
            "(('service', 'food'), 143)\n",
            "(('like', 'place'), 102)\n",
            "(('food', 'place'), 106)\n",
            "(('great', 'food'), 128)\n"
          ]
        },
        {
          "output_type": "stream",
          "name": "stderr",
          "text": [
            "\n"
          ]
        }
      ]
    },
    {
      "cell_type": "code",
      "source": [
        "from itertools import combinations\n",
        "\n",
        "def calculate_itemset_support(itemset, all_transactions):\n",
        "    \"\"\"\n",
        "    Calculate the support for a given itemset within a collection of transactions.\n",
        "\n",
        "    Parameters:\n",
        "    itemset (tuple): The itemset for which support is to be calculated.\n",
        "    all_transactions (list): A list of all transactions (each transaction is a set of items).\n",
        "\n",
        "    Returns:\n",
        "    float: The support value for the given itemset.\n",
        "    \"\"\"\n",
        "    occurrence_count = sum(set(itemset).issubset(transaction) for transaction in all_transactions)\n",
        "    return occurrence_count / len(all_transactions)\n",
        "\n",
        "def generate_association_rules(frequent_itemsets, minimum_confidence, all_transactions):\n",
        "    \"\"\"\n",
        "    Generate association rules from frequent itemsets.\n",
        "\n",
        "    Parameters:\n",
        "    frequent_itemsets (list): A list of tuples, where each tuple contains a frequent itemset and its count.\n",
        "    minimum_confidence (float): The minimum confidence threshold for the rules.\n",
        "    all_transactions (list): A list of all transactions.\n",
        "\n",
        "    Returns:\n",
        "    list: A list of tuples representing the association rules. Each tuple contains the antecedent, consequent, support, and confidence of the rule.\n",
        "    \"\"\"\n",
        "    rules = []\n",
        "    for itemset, _ in frequent_itemsets:\n",
        "        if len(itemset) > 1:\n",
        "            for subset in generate_all_subsets(itemset):\n",
        "                antecedent = subset\n",
        "                consequent = tuple(item for item in itemset if item not in antecedent)\n",
        "                support_of_antecedent = calculate_itemset_support(antecedent, all_transactions)\n",
        "                support_of_itemset = calculate_itemset_support(itemset, all_transactions)\n",
        "                if support_of_antecedent > 0:\n",
        "                    confidence = support_of_itemset / support_of_antecedent\n",
        "                    if confidence >= minimum_confidence:\n",
        "                        rules.append((antecedent, consequent, support_of_itemset, confidence))\n",
        "    return rules\n",
        "\n",
        "def generate_all_subsets(itemset):\n",
        "    \"\"\"\n",
        "    Generate all non-empty proper subsets of an itemset.\n",
        "\n",
        "    Parameters:\n",
        "    itemset (tuple): The itemset from which subsets are generated.\n",
        "\n",
        "    Returns:\n",
        "    list: A list of subsets of the itemset.\n",
        "    \"\"\"\n",
        "    all_subsets = []\n",
        "    for i in range(1, len(itemset)):\n",
        "        all_subsets.extend(combinations(itemset, i))\n",
        "    return all_subsets\n"
      ],
      "metadata": {
        "id": "p-IOjLT8pNcl"
      },
      "execution_count": 14,
      "outputs": []
    },
    {
      "cell_type": "code",
      "source": [
        "# Set the minimum confidence threshold for association rules\n",
        "minimum_confidence_threshold = 0.3\n",
        "\n",
        "# Generate association rules from the frequent itemsets\n",
        "# We limit the transactions to the first 100 for this analysis\n",
        "generated_association_rules = generate_association_rules(tested_frequent_itemsets,\n",
        "                                                        minimum_confidence_threshold,\n",
        "                                                        transactions[:100])\n",
        "\n",
        "# Writing the generated association rules to a file\n",
        "with open('/content/AMDs-Market-basket-analysis/association_rules.txt', 'w') as file:\n",
        "    for rule in generated_association_rules:\n",
        "        antecedent, consequent, support_value, confidence_value = rule\n",
        "        file.write(f\"Antecedent: {antecedent}\\n\")\n",
        "        file.write(f\"Consequent: {consequent}\\n\")\n",
        "        file.write(f\"Support: {support_value:.4f}\\n\")\n",
        "        file.write(f\"Confidence: {confidence_value:.4f}\\n\")\n",
        "        file.write(\"---\\n\")\n",
        "\n",
        "\n",
        "# Print the generated association rules with their metrics\n",
        "print(\"Generated Association Rules:\")\n",
        "for rule in generated_association_rules[:20]:\n",
        "    antecedent, consequent, support_value, confidence_value = rule\n",
        "    print(f\"Antecedent: {antecedent}\")\n",
        "    print(f\"Consequent: {consequent}\")\n",
        "    print(f\"Support: {support_value:.4f}\")  # formatted for precision\n",
        "    print(f\"Confidence: {confidence_value:.4f}\")  # formatted for precision\n",
        "    print(\"---\")\n",
        "\n"
      ],
      "metadata": {
        "id": "1sFDQ9vFp7Sc",
        "colab": {
          "base_uri": "https://localhost:8080/"
        },
        "outputId": "f64f89ff-72e1-4e92-dea9-b0da9f7b8aec"
      },
      "execution_count": 15,
      "outputs": [
        {
          "output_type": "stream",
          "name": "stdout",
          "text": [
            "Generated Association Rules:\n",
            "Antecedent: ('good',)\n",
            "Consequent: ('food',)\n",
            "Support: 0.1500\n",
            "Confidence: 0.4688\n",
            "---\n",
            "Antecedent: ('food',)\n",
            "Consequent: ('good',)\n",
            "Support: 0.1500\n",
            "Confidence: 0.3846\n",
            "---\n",
            "Antecedent: ('place',)\n",
            "Consequent: ('good',)\n",
            "Support: 0.0900\n",
            "Confidence: 0.3103\n",
            "---\n",
            "Antecedent: ('great',)\n",
            "Consequent: ('place',)\n",
            "Support: 0.1200\n",
            "Confidence: 0.3333\n",
            "---\n",
            "Antecedent: ('place',)\n",
            "Consequent: ('great',)\n",
            "Support: 0.1200\n",
            "Confidence: 0.4138\n",
            "---\n",
            "Antecedent: ('service',)\n",
            "Consequent: ('food',)\n",
            "Support: 0.1400\n",
            "Confidence: 0.6667\n",
            "---\n",
            "Antecedent: ('food',)\n",
            "Consequent: ('service',)\n",
            "Support: 0.1400\n",
            "Confidence: 0.3590\n",
            "---\n",
            "Antecedent: ('food',)\n",
            "Consequent: ('place',)\n",
            "Support: 0.1400\n",
            "Confidence: 0.3590\n",
            "---\n",
            "Antecedent: ('place',)\n",
            "Consequent: ('food',)\n",
            "Support: 0.1400\n",
            "Confidence: 0.4828\n",
            "---\n"
          ]
        }
      ]
    },
    {
      "cell_type": "markdown",
      "source": [
        "#PCY using Map Reduce"
      ],
      "metadata": {
        "id": "XCBUMguds2oq"
      }
    },
    {
      "cell_type": "code",
      "source": [
        "!python3 AMDs-Market-basket-analysis/PCY_MAP_REDUCE.py"
      ],
      "metadata": {
        "colab": {
          "base_uri": "https://localhost:8080/"
        },
        "id": "qt9pBvPT6Bg1",
        "outputId": "825ed7d9-14c8-4fdf-9424-df75e582a58c"
      },
      "execution_count": 3,
      "outputs": [
        {
          "output_type": "stream",
          "name": "stdout",
          "text": [
            "Number of transactions: 1000000\n",
            "Using only the first 500000 transactions\n",
            "Processing subset size: 1000\n",
            "Number of worker processes: 2\n",
            "Map Phase: 100% 1/1 [00:00<00:00,  7.08it/s]\n",
            "Reduce Phase: 0it [00:00, ?it/s]\n",
            "Time taken: 0.39853501319885254\n",
            "\n",
            "Processing subset size: 10000\n",
            "Number of worker processes: 2\n",
            "Map Phase: 100% 1/1 [00:02<00:00,  2.15s/it]\n",
            "Reduce Phase: 0it [00:00, ?it/s]\n",
            "Time taken: 2.575181245803833\n",
            "\n",
            "Processing subset size: 100000\n",
            "Number of worker processes: 2\n",
            "Map Phase: 100% 10/10 [00:21<00:00,  2.14s/it]\n",
            "Reduce Phase: 100% 7/7 [00:00<00:00, 203889.78it/s]\n",
            "Time taken: 24.043862104415894\n",
            "\n",
            "Processing subset size: 200000\n",
            "Number of worker processes: 2\n",
            "Map Phase: 100% 20/20 [01:21<00:00,  4.08s/it]\n",
            "Reduce Phase: 100% 77/77 [00:00<00:00, 1392075.03it/s]\n",
            "Time taken: 85.69171738624573\n",
            "\n",
            "Number of frequent itemsets: 77\n"
          ]
        }
      ]
    },
    {
      "cell_type": "markdown",
      "source": [
        "#Benchmark for PCY"
      ],
      "metadata": {
        "id": "vIUuawR8EMvl"
      }
    },
    {
      "cell_type": "code",
      "source": [
        "# Load pkl file of inference time\n",
        "import pickle\n",
        "with open('pcy_times.pkl', 'rb') as f:\n",
        "    pcy_times = pickle.load(f)\n",
        "    print(\"PCY Times:\")\n",
        "print(pcy_times)"
      ],
      "metadata": {
        "colab": {
          "base_uri": "https://localhost:8080/"
        },
        "id": "zRQKRlJGEQbC",
        "outputId": "28fed3fb-3538-4b78-fbe2-8a6eb83322b0"
      },
      "execution_count": 5,
      "outputs": [
        {
          "output_type": "stream",
          "name": "stdout",
          "text": [
            "PCY Times:\n",
            "[0.39853501319885254, 2.575181245803833, 24.043862104415894, 85.69171738624573]\n"
          ]
        }
      ]
    },
    {
      "cell_type": "code",
      "source": [
        "x = [1000, 10000, 100000, 200000]\n",
        "\n",
        "plt.figure(figsize=(10, 10))\n",
        "sns.set(font_scale=1.5)\n",
        "plt.plot(x, pcy_times)\n",
        "plt.xlabel('Number of transactions')\n",
        "plt.ylabel('Inference time (s)')\n",
        "plt.ScalarFormatter(useMathText=True)\n",
        "\n",
        "plt.show()"
      ],
      "metadata": {
        "colab": {
          "base_uri": "https://localhost:8080/",
          "height": 872
        },
        "id": "QgE9bFitEaf6",
        "outputId": "68af04bb-e649-4e32-c101-348718d15b68"
      },
      "execution_count": 6,
      "outputs": [
        {
          "output_type": "display_data",
          "data": {
            "text/plain": [
              "<Figure size 1000x1000 with 1 Axes>"
            ],
            "image/png": "[encoded data removed]"
          },
          "metadata": {}
        }
      ]
    },
    {
      "cell_type": "code",
      "execution_count": null,
      "metadata": {
        "id": "9mrAqTXNv_RA"
      },
      "outputs": [],
      "source": []
    }
  ],
  "metadata": {
    "colab": {
      "provenance": []
    },
    "kernelspec": {
      "display_name": "Python 3",
      "name": "python3"
    },
    "language_info": {
      "name": "python"
    }
  },
  "nbformat": 4,
  "nbformat_minor": 0
}