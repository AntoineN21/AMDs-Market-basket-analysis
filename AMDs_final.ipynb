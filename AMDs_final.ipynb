{
  "cells": [
    {
      "cell_type": "markdown",
      "metadata": {
        "id": "view-in-github",
        "colab_type": "text"
      },
      "source": [
        "<a href=\"https://colab.research.google.com/github/AntoineN21/AMDs-Market-basket-analysis/blob/main/AMDs_final.ipynb\" target=\"_parent\"><img src=\"https://colab.research.google.com/assets/colab-badge.svg\" alt=\"Open In Colab\"/></a>"
      ]
    },
    {
      "cell_type": "markdown",
      "metadata": {
        "id": "qZDWJ1c3JqMJ"
      },
      "source": [
        "##Market Basket Analysis\n",
        "\n",
        "#importing section\n",
        "\n"
      ]
    },
    {
      "cell_type": "code",
      "execution_count": 1,
      "metadata": {
        "colab": {
          "base_uri": "https://localhost:8080/"
        },
        "id": "2XA73Pldw19v",
        "outputId": "d48a638f-5882-40d1-86c3-e4a6e6dd9aaf"
      },
      "outputs": [
        {
          "output_type": "stream",
          "name": "stdout",
          "text": [
            "Requirement already satisfied: mrjob in /usr/local/lib/python3.10/dist-packages (0.7.4)\n",
            "Requirement already satisfied: PyYAML>=3.10 in /usr/local/lib/python3.10/dist-packages (from mrjob) (6.0.1)\n"
          ]
        }
      ],
      "source": [
        "!pip install mrjob"
      ]
    },
    {
      "cell_type": "code",
      "execution_count": 9,
      "metadata": {
        "id": "1Y9hf9Ed9JkP"
      },
      "outputs": [],
      "source": [
        "import pandas as pd\n",
        "import numpy as np\n",
        "import matplotlib.pyplot as plt\n",
        "import zipfile\n",
        "import os\n",
        "import json\n",
        "from tqdm import tqdm\n",
        "import nltk\n",
        "from nltk.corpus import stopwords\n",
        "from nltk.tokenize import word_tokenize\n",
        "from itertools import combinations\n",
        "from collections import defaultdict\n",
        "import time\n",
        "import pickle\n",
        "from mrjob.job import MRJob\n",
        "from mrjob.step import MRStep"
      ]
    },
    {
      "cell_type": "markdown",
      "metadata": {
        "id": "6FAG30e8LAGd"
      },
      "source": [
        "Initialize: firstly we need to delete the directory named \"market-basket-analysis\" and all its contents recursively if it is already existed"
      ]
    },
    {
      "cell_type": "code",
      "execution_count": 10,
      "metadata": {
        "id": "iiHnxl3iLSgN"
      },
      "outputs": [],
      "source": [
        "!rm -r AMDs-Market-basket-analysis"
      ]
    },
    {
      "cell_type": "markdown",
      "metadata": {
        "id": "sH0MeZT2L-dP"
      },
      "source": [
        "and now after we need to clone \"AMDs-Market-basket-analysis\"\n"
      ]
    },
    {
      "cell_type": "code",
      "execution_count": 11,
      "metadata": {
        "colab": {
          "base_uri": "https://localhost:8080/"
        },
        "id": "r8ObIBXwL9zL",
        "outputId": "89f96f21-4242-40ea-aa42-28fe26e3c11c"
      },
      "outputs": [
        {
          "output_type": "stream",
          "name": "stdout",
          "text": [
            "Cloning into 'AMDs-Market-basket-analysis'...\n",
            "remote: Enumerating objects: 179, done.\u001b[K\n",
            "remote: Counting objects: 100% (64/64), done.\u001b[K\n",
            "remote: Compressing objects: 100% (64/64), done.\u001b[K\n",
            "remote: Total 179 (delta 20), reused 0 (delta 0), pack-reused 115\u001b[K\n",
            "Receiving objects: 100% (179/179), 50.77 KiB | 2.03 MiB/s, done.\n",
            "Resolving deltas: 100% (54/54), done.\n"
          ]
        }
      ],
      "source": [
        "!git clone https://github.com/AntoineN21/AMDs-Market-basket-analysis.git"
      ]
    },
    {
      "cell_type": "code",
      "execution_count": 12,
      "metadata": {
        "colab": {
          "base_uri": "https://localhost:8080/"
        },
        "id": "mHRMXPlRNrBr",
        "outputId": "8406dbc7-1b73-4f9e-b533-b405fa79130c"
      },
      "outputs": [
        {
          "output_type": "stream",
          "name": "stdout",
          "text": [
            "yelp-dataset.zip: Skipping, found more recently modified local copy (use --force to force download)\n"
          ]
        }
      ],
      "source": [
        "os.environ['KAGGLE_USERNAME'] = \"antoinenasra\"\n",
        "os.environ['KAGGLE_KEY'] = \"76b8324d7f603ad73a40084d6122d91f\"\n",
        "!kaggle datasets download -d yelp-dataset/yelp-dataset"
      ]
    },
    {
      "cell_type": "code",
      "execution_count": 13,
      "metadata": {
        "colab": {
          "base_uri": "https://localhost:8080/"
        },
        "id": "QqTQLBQuVx38",
        "outputId": "b42c6aa5-d1e6-4f7b-849c-6aa1ae2e7461"
      },
      "outputs": [
        {
          "output_type": "stream",
          "name": "stdout",
          "text": [
            "Archive:  yelp-dataset.zip\n",
            "replace ./market-basket-analysis/yelp_academic_dataset_review.json? [y]es, [n]o, [A]ll, [N]one, [r]ename: n\n"
          ]
        }
      ],
      "source": [
        "!unzip -j \"yelp-dataset.zip\" \"yelp_academic_dataset_review.json\" -d \"./market-basket-analysis\""
      ]
    },
    {
      "cell_type": "code",
      "execution_count": 14,
      "metadata": {
        "colab": {
          "base_uri": "https://localhost:8080/"
        },
        "id": "EqiJjawIXCtZ",
        "outputId": "9fdee9b4-5498-4229-8120-90cb2b7d8bca"
      },
      "outputs": [
        {
          "output_type": "stream",
          "name": "stdout",
          "text": [
            "[nltk_data] Downloading package stopwords to /root/nltk_data...\n",
            "[nltk_data]   Package stopwords is already up-to-date!\n",
            "100it [02:43,  1.63s/it]\n",
            "Number of transactions: 1000000\n"
          ]
        }
      ],
      "source": [
        "!python3 ./AMDs-Market-basket-analysis/preprocess.py"
      ]
    },
    {
      "cell_type": "markdown",
      "metadata": {
        "id": "KBMz2KYQ9kaX"
      },
      "source": [
        "In order to utilize multiprocessing and overcome the crashing issue when using it directly in the colab, we employed a separate .py file named \"preprocess.py\" located in the same folder as this notebook. Within the \"preprocess.py\" file, we performed the processing of buckets and tokenization. As a result, it generated the \"transactions.pkl\" file, which we subsequently utilize in this notebook."
      ]
    },
    {
      "cell_type": "code",
      "execution_count": 15,
      "metadata": {
        "id": "JivdWGStXpcd"
      },
      "outputs": [],
      "source": [
        "# Load transactions from a file\n",
        "transactions = []\n",
        "with open('transactions.pkl', 'rb') as f:\n",
        "    transactions = pickle.load(f)"
      ]
    },
    {
      "cell_type": "code",
      "execution_count": 16,
      "metadata": {
        "colab": {
          "base_uri": "https://localhost:8080/"
        },
        "id": "6YbQbeRiqAbR",
        "outputId": "43dfe236-09b9-4995-9823-4c4557ff8d79"
      },
      "outputs": [
        {
          "output_type": "stream",
          "name": "stdout",
          "text": [
            "Transaction 1: ['decide', 'eat', 'aware', 'going', 'take', 'hours', 'beginning', 'end', 'tried', 'multiple', 'times', 'want', 'like', 'locations', 'nj', 'never', 'bad', 'experience', 'food', 'good', 'takes', 'long', 'time', 'come', 'waitstaff', 'young', 'usually', 'pleasant', 'many', 'experiences', 'spent', 'way', 'long', 'waiting', 'usually', 'opt', 'another', 'diner', 'restaurant', 'weekends', 'order', 'done', 'quicker']\n",
            "Transaction 2: ['taken', 'lot', 'spin', 'classes', 'years', 'nothing', 'compares', 'classes', 'body', 'cycle', 'nice', 'clean', 'space', 'amazing', 'bikes', 'welcoming', 'motivating', 'instructors', 'every', 'class', 'top', 'notch', 'work', 'anyone', 'struggles', 'fit', 'workouts', 'online', 'scheduling', 'system', 'makes', 'easy', 'plan', 'ahead', 'need', 'line', 'way', 'advanced', 'like', 'many', 'gyms', 'make', 'way', 'write', 'review', 'without', 'giving', 'russell', 'owner', 'body', 'cycle', 'shout', 'russell', 'passion', 'fitness', 'cycling', 'evident', 'desire', 'clients', 'succeed', 'always', 'dropping', 'classes', 'check', 'provide', 'encouragement', 'open', 'ideas', 'recommendations', 'anyone', 'russell', 'always', 'wears', 'smile', 'face', 'even', 'kicking', 'butt', 'class']\n",
            "Transaction 3: ['family', 'diner', 'buffet', 'eclectic', 'assortment', 'large', 'chicken', 'leg', 'fried', 'jalape', 'tamale', 'two', 'rolled', 'grape', 'leaves', 'fresh', 'melon', 'good', 'lots', 'mexican', 'choices', 'also', 'menu', 'breakfast', 'served', 'day', 'long', 'friendly', 'attentive', 'staff', 'good', 'place', 'casual', 'relaxed', 'meal', 'expectations', 'next', 'clarion', 'hotel']\n",
            "Transaction 4: ['wow', 'yummy', 'different', 'delicious', 'favorite', 'lamb', 'curry', 'korma', 'different', 'kinds', 'naan', 'let', 'outside', 'deter', 'almost', 'changed', 'minds', 'go', 'try', 'something', 'new', 'glad']\n",
            "Transaction 5: ['cute', 'interior', 'owner', 'gave', 'us', 'tour', 'upcoming', 'patio', 'rooftop', 'area', 'great', 'beautiful', 'days', 'like', 'today', 'cheese', 'curds', 'good', 'filling', 'really', 'like', 'sandwiches', 'come', 'w', 'salad', 'esp', 'eating', 'many', 'curds', 'onion', 'gruyere', 'tomato', 'sandwich', 'much', 'cheese', 'liked', 'needed', 'something', 'else', 'pepper', 'jelly', 'maybe', 'would', 'like', 'see', 'menu', 'options', 'added', 'salads', 'w', 'fun', 'cheeses', 'lots', 'beer', 'wine', 'well', 'limited', 'cocktails', 'next', 'time', 'try', 'one', 'draft', 'wines']\n"
          ]
        }
      ],
      "source": [
        "import pickle as pkl\n",
        "\n",
        "# Load the transactions from the pickle file\n",
        "with open('transactions.pkl', 'rb') as f:\n",
        "    transactions = pkl.load(f)\n",
        "\n",
        "# Display a small portion of the data\n",
        "num_samples = 5\n",
        "sample_data = transactions[:num_samples]\n",
        "for i, transaction in enumerate(sample_data, start=1):\n",
        "    print(f\"Transaction {i}: {transaction}\")"
      ]
    },
    {
      "cell_type": "code",
      "source": [
        "num_items = [len(t) for t in transactions]\n",
        "\n",
        "plt.hist(num_items, bins=100)\n",
        "plt.xlabel('Number of Items')\n",
        "plt.ylabel('Number of Transactions')\n",
        "plt.title('Histogram of Number of Items in Each Transaction')\n",
        "#Drawing a vertical line at the average number of items\n",
        "plt.axvline(int(np.mean(num_items)), color='red', linestyle='dashed', linewidth=1)\n",
        "#Displaying the average number of items on the x-axis\n",
        "plt.text(int(np.mean(num_items)), 40000, 'Average = {:d}'.format(int(np.mean(num_items))), rotation=90, va='bottom', color='red', fontsize=10, fontweight='bold')\n",
        "plt.show()"
      ],
      "metadata": {
        "colab": {
          "base_uri": "https://localhost:8080/",
          "height": 472
        },
        "id": "e9F5y1mjGJj1",
        "outputId": "c7919cb8-62d4-429b-e754-a618f002832a"
      },
      "execution_count": 10,
      "outputs": [
        {
          "output_type": "display_data",
          "data": {
            "text/plain": [
              "<Figure size 640x480 with 1 Axes>"
            ],
            "image/png": "[encoded data removed]"
          },
          "metadata": {}
        }
      ]
    },
    {
      "cell_type": "markdown",
      "metadata": {
        "id": "CCosHGp7Fr4b"
      },
      "source": [
        "#Analyze Market Basket"
      ]
    },
    {
      "cell_type": "markdown",
      "metadata": {
        "id": "fSKS-ClveRcG"
      },
      "source": [
        "#FP-Growth Algorithm"
      ]
    },
    {
      "cell_type": "markdown",
      "metadata": {
        "id": "NfOahsJqlQNl"
      },
      "source": [
        "Define the FPNode Class"
      ]
    },
    {
      "cell_type": "code",
      "execution_count": 17,
      "metadata": {
        "id": "RHo1v88rlneD"
      },
      "outputs": [],
      "source": [
        "class FPNode:\n",
        "    def __init__(self, item=None, count=1, parent=None):\n",
        "        self.item = item\n",
        "        self.count = count\n",
        "        self.parent = parent\n",
        "        self.children = defaultdict(FPNode)  # Use defaultdict to automatically create child nodes\n",
        "\n",
        "    def increment_count(self):\n",
        "        self.count += 1\n"
      ]
    },
    {
      "cell_type": "markdown",
      "metadata": {
        "id": "FORshgqNnHe_"
      },
      "source": [
        "Define the construct_FP_tree function"
      ]
    },
    {
      "cell_type": "code",
      "execution_count": 18,
      "metadata": {
        "id": "3HPU_EQnnHMz"
      },
      "outputs": [],
      "source": [
        "def construct_FP_tree(transactions, min_support):\n",
        "    item_counts = defaultdict(int)\n",
        "    for transaction in transactions:\n",
        "        for item in transaction:\n",
        "            item_counts[item] += 1\n",
        "\n",
        "    # Filter out infrequent items\n",
        "    item_counts = {item: count for item, count in item_counts.items() if count >= min_support}\n",
        "\n",
        "    # Sort items by frequency\n",
        "    frequent_items = sorted(item_counts.keys(), key=lambda item: item_counts[item], reverse=True)\n",
        "\n",
        "    root = FPNode(None, 0, None)\n",
        "\n",
        "    # Construct the FP-Tree\n",
        "    for transaction in transactions:\n",
        "        # Keep only frequent items and sort them\n",
        "        transaction = [item for item in transaction if item in frequent_items]\n",
        "        transaction.sort(key=lambda item: item_counts[item], reverse=True)\n",
        "\n",
        "        # Traverse the FP-Tree, updating or creating nodes\n",
        "        current_node = root\n",
        "        for item in transaction:\n",
        "            if item in current_node.children:\n",
        "                current_node.children[item].increment_count()\n",
        "            else:\n",
        "                current_node.children[item] = FPNode(item, 1, current_node)\n",
        "            current_node = current_node.children[item]\n",
        "\n",
        "    return root, frequent_items, item_counts"
      ]
    },
    {
      "cell_type": "markdown",
      "metadata": {
        "id": "ftmEbUEgYyp9"
      },
      "source": [
        "Define the mine_frequent_itemsets function"
      ]
    },
    {
      "cell_type": "code",
      "execution_count": 19,
      "metadata": {
        "id": "LFrfa59fYzOQ"
      },
      "outputs": [],
      "source": [
        "#def mine_frequent_itemsets(root, frequent_items, item_counts, min_support):\n",
        "#   frequent_itemsets = []\n",
        "\n",
        " #   def mine_subtree(node, suffix, support):\n",
        "  #      if support >= min_support:\n",
        "   #         frequent_itemsets.append((suffix, support))\n",
        "#       for item, child_node in node.children.items():\n",
        " #           child_support = item_counts.get(item, 0)\n",
        "  #          if child_support >= min_support:\n",
        "   #             mine_subtree(child_node, suffix + [item], child_support)\n",
        "\n",
        "    #mine_subtree(root, [], 0)\n",
        "\n",
        "    #return frequent_itemsets\n",
        "\n",
        "def mine_frequent_itemsets(root, min_support):\n",
        "    frequent_itemsets = []\n",
        "\n",
        "    def find_support(itemset):\n",
        "        \"\"\"Find the support of an itemset by checking the minimum support of its items in the tree.\"\"\"\n",
        "        return min([item_counts[item] for item in itemset])\n",
        "\n",
        "    def mine_subtree(node, suffix):\n",
        "        \"\"\"Recursively mine the tree.\"\"\"\n",
        "        for item, child_node in node.children.items():\n",
        "          if item not in suffix: #check\n",
        "            new_suffix = suffix + [item]\n",
        "            support = find_support(new_suffix)\n",
        "            if support >= min_support:\n",
        "                frequent_itemsets.append((new_suffix, support))\n",
        "                mine_subtree(child_node, new_suffix)\n",
        "\n",
        "    mine_subtree(root, [])\n",
        "    return frequent_itemsets\n",
        "\n",
        "# Example usage\n",
        "# Assume root, item_counts, and min_support are defined from the FP-tree construction phase\n",
        "# frequent_itemsets = mine_frequent_itemsets(root, min_support)\n",
        "\n",
        "\n"
      ]
    },
    {
      "cell_type": "code",
      "execution_count": 20,
      "metadata": {
        "id": "1tyrpH-x0irh"
      },
      "outputs": [],
      "source": [
        "def get_item_counts_from_transactions(transactions, min_support):\n",
        "    item_counts = defaultdict(int)\n",
        "    for transaction in transactions:\n",
        "        for item in transaction:\n",
        "            item_counts[item] += 1\n",
        "\n",
        "    # Filter out items below the minimum support threshold\n",
        "    return {item: count for item, count in item_counts.items() if count >= min_support}\n",
        "\n",
        "# Example usage\n",
        "# Assume transactions is your dataset and min_support is defined\n",
        "# item_counts = get_item_counts_from_transactions(transactions, min_support)\n"
      ]
    },
    {
      "cell_type": "markdown",
      "metadata": {
        "id": "e8SjIyMPY42z"
      },
      "source": [
        "Define the generate_association_rules function"
      ]
    },
    {
      "cell_type": "code",
      "execution_count": 21,
      "metadata": {
        "id": "ZIkT_dqOY7PW"
      },
      "outputs": [],
      "source": [
        "from itertools import combinations\n",
        "\n",
        "def generate_association_rules(frequent_itemsets, item_counts, min_confidence):\n",
        "    association_rules = []\n",
        "\n",
        "    def get_itemset_support(itemset):\n",
        "        \"\"\"Get the support of the itemset, defined as the minimum support of its items.\"\"\"\n",
        "        return min([item_counts.get(item, 0) for item in itemset])\n",
        "\n",
        "    for itemset, itemset_support in frequent_itemsets:\n",
        "        if len(itemset) < 2:\n",
        "            continue\n",
        "\n",
        "        for i in range(1, len(itemset)):\n",
        "            for antecedent in combinations(itemset, i):\n",
        "                antecedent_support = get_itemset_support(antecedent)\n",
        "\n",
        "                # Skip if antecedent is not found or its support is zero\n",
        "                if antecedent_support == 0:\n",
        "                    continue\n",
        "\n",
        "                consequent = tuple(set(itemset) - set(antecedent))\n",
        "                confidence = itemset_support / antecedent_support\n",
        "\n",
        "                if confidence >= min_confidence:\n",
        "                    association_rules.append((antecedent, consequent, itemset_support, confidence))\n",
        "\n",
        "    return association_rules\n",
        "\n",
        "# Example usage\n",
        "# frequent_itemsets = [(['Milk', 'Bread'], 3), (['Bread', 'Eggs'], 2), ...]\n",
        "# item_counts = {'Milk': 5, 'Bread': 7, 'Eggs': 4, ...}\n",
        "# association_rules = generate_association_rules(frequent_itemsets, item_counts, min_confidence=0.6)\n"
      ]
    },
    {
      "cell_type": "markdown",
      "metadata": {
        "id": "cFah-wqUZTSd"
      },
      "source": [
        " Construct the FP-Tree and mine frequent itemsets"
      ]
    },
    {
      "cell_type": "code",
      "execution_count": 22,
      "metadata": {
        "colab": {
          "base_uri": "https://localhost:8080/"
        },
        "id": "iNbMBDxNZU-C",
        "outputId": "7dad98aa-a45b-4aa4-da98-7a53d90f58e1"
      },
      "outputs": [
        {
          "output_type": "stream",
          "name": "stdout",
          "text": [
            "Number of frequent itemsets: 234\n",
            "Some frequent itemsets: [(['good'], 39), (['good', 'food'], 35), (['good', 'food', 'like'], 31), (['good', 'food', 'like', 'time'], 19), (['good', 'food', 'like', 'time', 'restaurant'], 15), (['good', 'food', 'like', 'time', 'restaurant', 'going'], 12), (['good', 'food', 'like', 'time', 'restaurant', 'going', 'way'], 12), (['good', 'food', 'like', 'time', 'restaurant', 'going', 'way', 'want'], 11), (['good', 'food', 'like', 'time', 'restaurant', 'going', 'way', 'want', 'experience'], 11), (['good', 'food', 'like', 'time', 'restaurant', 'going', 'way', 'want', 'experience', 'many'], 11)]\n",
            "Number of association rules: 78522\n",
            "Some association rules: [(('good',), ('food',), 35, 0.8974358974358975), (('food',), ('good',), 35, 1.0), (('food',), ('good', 'like'), 31, 0.8857142857142857), (('like',), ('food', 'good'), 31, 1.0), (('good', 'food'), ('like',), 31, 0.8857142857142857), (('good', 'like'), ('food',), 31, 1.0), (('food', 'like'), ('good',), 31, 1.0), (('time',), ('food', 'good', 'like'), 19, 1.0), (('good', 'time'), ('food', 'like'), 19, 1.0), (('food', 'time'), ('good', 'like'), 19, 1.0)]\n"
          ]
        }
      ],
      "source": [
        "#size= 100\n",
        "#root, frequent_items, item_counts, conditional_patterns = construct_FP_tree(transactions[:size], min_support)\n",
        "#print(conditional_patterns)\n",
        "#frequent_itemsets = mine_frequent_itemsets(root, frequent_items, item_counts, min_support)\n",
        "##item_counts = get_item_counts(frequent_itemsets)\n",
        "#print(len(frequent_itemsets))\n",
        "#print(frequent_itemsets)\n",
        "# Define the number of transactions to test\n",
        "num_transactions_to_test = 75  # Adjust this to the number of transactions you want to test\n",
        "\n",
        "# Slice the transactions dataset\n",
        "test_transactions = transactions[:num_transactions_to_test]\n",
        "\n",
        "# Define minimum support and confidence thresholds\n",
        "min_support = 5  # Adjust based on your requirements\n",
        "min_confidence = 0.8  # Adjust based on your requirements\n",
        "\n",
        "# Construct the FP-Tree with the sliced dataset\n",
        "root, frequent_items, item_counts = construct_FP_tree(test_transactions, min_support)\n",
        "\n",
        "# Mine the frequent itemsets from the FP-Tree\n",
        "frequent_itemsets = mine_frequent_itemsets(root, min_support)\n",
        "print(f\"Number of frequent itemsets: {len(frequent_itemsets)}\")\n",
        "print(\"Some frequent itemsets:\", frequent_itemsets[:10])  # Display the first 10 for brevity\n",
        "\n",
        "# Generate association rules from the frequent itemsets (if needed)\n",
        "association_rules = generate_association_rules(frequent_itemsets, item_counts, min_confidence)\n",
        "print(f\"Number of association rules: {len(association_rules)}\")\n",
        "print(\"Some association rules:\", association_rules[:10])  # Display the first 10 for brevity\n"
      ]
    },
    {
      "cell_type": "markdown",
      "metadata": {
        "id": "9xp_AD4HZcSu"
      },
      "source": [
        " Print the frequent itemsets and association rules"
      ]
    },
    {
      "cell_type": "code",
      "execution_count": 24,
      "metadata": {
        "id": "iCpgNHN4ZidX",
        "colab": {
          "base_uri": "https://localhost:8080/"
        },
        "outputId": "3fdac5d9-a961-40a7-ded3-44101f5fc77d"
      },
      "outputs": [
        {
          "output_type": "stream",
          "name": "stdout",
          "text": [
            "Frequent Itemsets:\n",
            "['good'] Support: 39\n",
            "['good', 'food'] Support: 35\n",
            "['good', 'food', 'like'] Support: 31\n",
            "['good', 'food', 'like', 'time'] Support: 19\n",
            "['good', 'food', 'like', 'time', 'restaurant'] Support: 15\n",
            "['good', 'food', 'like', 'time', 'restaurant', 'going'] Support: 12\n",
            "['good', 'food', 'like', 'time', 'restaurant', 'going', 'way'] Support: 12\n",
            "['good', 'food', 'like', 'time', 'restaurant', 'going', 'way', 'want'] Support: 11\n",
            "['good', 'food', 'like', 'time', 'restaurant', 'going', 'way', 'want', 'experience'] Support: 11\n",
            "['good', 'food', 'like', 'time', 'restaurant', 'going', 'way', 'want', 'experience', 'many'] Support: 11\n",
            "\n",
            "Association Rules:\n",
            "Antecedent: ('good',) Consequent: ('food',) Support: 35 Confidence: 0.8974358974358975\n",
            "Antecedent: ('food',) Consequent: ('good',) Support: 35 Confidence: 1.0\n",
            "Antecedent: ('food',) Consequent: ('good', 'like') Support: 31 Confidence: 0.8857142857142857\n",
            "Antecedent: ('like',) Consequent: ('food', 'good') Support: 31 Confidence: 1.0\n",
            "Antecedent: ('good', 'food') Consequent: ('like',) Support: 31 Confidence: 0.8857142857142857\n",
            "Antecedent: ('good', 'like') Consequent: ('food',) Support: 31 Confidence: 1.0\n",
            "Antecedent: ('food', 'like') Consequent: ('good',) Support: 31 Confidence: 1.0\n",
            "Antecedent: ('time',) Consequent: ('food', 'good', 'like') Support: 19 Confidence: 1.0\n",
            "Antecedent: ('good', 'time') Consequent: ('food', 'like') Support: 19 Confidence: 1.0\n",
            "Antecedent: ('food', 'time') Consequent: ('good', 'like') Support: 19 Confidence: 1.0\n"
          ]
        }
      ],
      "source": [
        "print(\"Frequent Itemsets:\")\n",
        "count = 0\n",
        "for itemset, support in frequent_itemsets:\n",
        "    if count < 10:\n",
        "        print(itemset, \"Support:\", support)\n",
        "        count += 1\n",
        "    else:\n",
        "        break\n",
        "\n",
        "print(\"\\nAssociation Rules:\")\n",
        "count = 0\n",
        "for antecedent, consequent, support, confidence in association_rules:\n",
        "    if count < 10:\n",
        "        print(\"Antecedent:\", antecedent, \"Consequent:\", consequent, \"Support:\", support, \"Confidence:\", confidence)\n",
        "        count += 1\n",
        "    else:\n",
        "        break"
      ]
    },
    {
      "cell_type": "markdown",
      "metadata": {
        "id": "YHWIJoJ5ePbt"
      },
      "source": [
        "--------------------------------------------------------------"
      ]
    },
    {
      "cell_type": "markdown",
      "metadata": {
        "id": "8woMhywpk5Mj"
      },
      "source": [
        "#PCY Algorithem\n",
        "\n",
        ">\n",
        "\n"
      ]
    },
    {
      "cell_type": "markdown",
      "metadata": {
        "id": "p9QKlejonYI6"
      },
      "source": [
        "Define PCY algorithem"
      ]
    },
    {
      "cell_type": "code",
      "source": [
        "\n",
        "\n",
        "\n",
        "def PCY_algorithm(transactions, minimum_support, size_of_hash_table):\n",
        "    # Initial pass - Count individual items\n",
        "    count_of_single_items = {}\n",
        "    for transaction in transactions:\n",
        "        for item in transaction:\n",
        "            if item in count_of_single_items:\n",
        "                count_of_single_items[item] += 1\n",
        "            else:\n",
        "                count_of_single_items[item] = 1\n",
        "\n",
        "    # Identify items that meet the minimum support threshold\n",
        "    items_meeting_min_support = {\n",
        "        item for item, count in count_of_single_items.items() if count >= minimum_support\n",
        "    }\n",
        "\n",
        "    # Second pass - Identify frequent pairs and triplets\n",
        "    counts_of_candidates = {}\n",
        "    hash_table = np.zeros(size_of_hash_table, dtype=int)\n",
        "\n",
        "    # Iterate through each transaction\n",
        "    for transaction in tqdm(transactions):\n",
        "        transaction_items = set(transaction)\n",
        "\n",
        "        # Generate all possible pairs from the transaction\n",
        "        possible_pairs = combinations(transaction_items, 2)\n",
        "        frequent_pairs = [\n",
        "            (item1, item2) for item1, item2 in possible_pairs\n",
        "            if item1 in items_meeting_min_support and item2 in items_meeting_min_support\n",
        "        ]\n",
        "\n",
        "        # Count these pairs both in the hash table and separately\n",
        "        for pair in frequent_pairs:\n",
        "            hash_index = hash(pair) % size_of_hash_table\n",
        "            hash_table[hash_index] += 1\n",
        "            counts_of_candidates[pair] = counts_of_candidates.get(pair, 0) + 1\n",
        "\n",
        "        # Similarly, generate and count all possible triplets\n",
        "        possible_triplets = combinations(transaction_items, 3)\n",
        "        frequent_triplets = [\n",
        "            (item1, item2, item3) for item1, item2, item3 in possible_triplets\n",
        "            if (item1, item2) in frequent_pairs and\n",
        "               (item1, item3) in frequent_pairs and\n",
        "               (item2, item3) in frequent_pairs\n",
        "        ]\n",
        "\n",
        "        for triplet in frequent_triplets:\n",
        "            hash_index = hash(triplet) % size_of_hash_table\n",
        "            hash_table[hash_index] += 1\n",
        "            counts_of_candidates[triplet] = counts_of_candidates.get(triplet, 0) + 1\n",
        "\n",
        "    # Select itemsets that are frequent according to both minimum support and hash table counts\n",
        "    frequent_itemsets = [\n",
        "        (itemset, count) for itemset, count in counts_of_candidates.items()\n",
        "        if count >= minimum_support and hash_table[hash(itemset) % size_of_hash_table] >= minimum_support\n",
        "    ]\n",
        "\n",
        "    return frequent_itemsets\n",
        "\n",
        "\n"
      ],
      "metadata": {
        "id": "l0cC3FY3UwSk"
      },
      "execution_count": null,
      "outputs": []
    },
    {
      "cell_type": "code",
      "source": [
        "# Number of transactions to consider for the test\n",
        "num_transactions_to_test = 1000\n",
        "\n",
        "# Parameters for the PCY algorithm\n",
        "minimum_support_threshold = 100\n",
        "size_of_hash_table = 10000\n",
        "\n",
        "# Execute the PCY algorithm with a subset of transactions\n",
        "# (first 1000 transactions in this case)\n",
        "tested_frequent_itemsets = PCY_algorithm(transactions[:num_transactions_to_test],\n",
        "                                         minimum_support_threshold,\n",
        "                                         size_of_hash_table)\n",
        "\n",
        "# Display the frequent itemsets found in the test\n",
        "print(\"Frequent Itemsets:\")\n",
        "for itemset in tested_frequent_itemsets:\n",
        "    print(itemset)\n"
      ],
      "metadata": {
        "id": "J81CnXEqny8V"
      },
      "execution_count": null,
      "outputs": []
    },
    {
      "cell_type": "code",
      "source": [
        "from itertools import combinations\n",
        "\n",
        "def calculate_itemset_support(itemset, all_transactions):\n",
        "    \"\"\"\n",
        "    Calculate the support for a given itemset within a collection of transactions.\n",
        "\n",
        "    Parameters:\n",
        "    itemset (tuple): The itemset for which support is to be calculated.\n",
        "    all_transactions (list): A list of all transactions (each transaction is a set of items).\n",
        "\n",
        "    Returns:\n",
        "    float: The support value for the given itemset.\n",
        "    \"\"\"\n",
        "    occurrence_count = sum(set(itemset).issubset(transaction) for transaction in all_transactions)\n",
        "    return occurrence_count / len(all_transactions)\n",
        "\n",
        "def find_association_rules(frequent_itemsets, minimum_confidence, all_transactions):\n",
        "    \"\"\"\n",
        "    Generate association rules from frequent itemsets.\n",
        "\n",
        "    Parameters:\n",
        "    frequent_itemsets (list): A list of tuples, where each tuple contains a frequent itemset and its count.\n",
        "    minimum_confidence (float): The minimum confidence threshold for the rules.\n",
        "    all_transactions (list): A list of all transactions.\n",
        "\n",
        "    Returns:\n",
        "    list: A list of tuples representing the association rules. Each tuple contains the antecedent, consequent, support, and confidence of the rule.\n",
        "    \"\"\"\n",
        "    rules = []\n",
        "    for itemset, _ in frequent_itemsets:\n",
        "        if len(itemset) > 1:\n",
        "            for subset in generate_all_subsets(itemset):\n",
        "                antecedent = subset\n",
        "                consequent = tuple(item for item in itemset if item not in antecedent)\n",
        "                support_of_antecedent = calculate_itemset_support(antecedent, all_transactions)\n",
        "                support_of_itemset = calculate_itemset_support(itemset, all_transactions)\n",
        "                if support_of_antecedent > 0:\n",
        "                    confidence = support_of_itemset / support_of_antecedent\n",
        "                    if confidence >= minimum_confidence:\n",
        "                        rules.append((antecedent, consequent, support_of_itemset, confidence))\n",
        "    return rules\n",
        "\n",
        "def generate_all_subsets(itemset):\n",
        "    \"\"\"\n",
        "    Generate all non-empty proper subsets of an itemset.\n",
        "\n",
        "    Parameters:\n",
        "    itemset (tuple): The itemset from which subsets are generated.\n",
        "\n",
        "    Returns:\n",
        "    list: A list of subsets of the itemset.\n",
        "    \"\"\"\n",
        "    all_subsets = []\n",
        "    for i in range(1, len(itemset)):\n",
        "        all_subsets.extend(combinations(itemset, i))\n",
        "    return all_subsets\n"
      ],
      "metadata": {
        "id": "p-IOjLT8pNcl"
      },
      "execution_count": null,
      "outputs": []
    },
    {
      "cell_type": "code",
      "source": [
        "# Set the minimum confidence threshold for association rules\n",
        "minimum_confidence_threshold = 0.5\n",
        "\n",
        "# Generate association rules from the frequent itemsets\n",
        "# We limit the transactions to the first 100 for this analysis\n",
        "generated_association_rules = generate_association_rules(frequent_itemsets,\n",
        "                                                        minimum_confidence_threshold,\n",
        "                                                        transactions[:100])\n",
        "\n",
        "# Writing the generated association rules to a file\n",
        "with open('association_rules.txt', 'w') as file:\n",
        "    for rule in generated_association_rules:\n",
        "        antecedent, consequent, support_value, confidence_value = rule\n",
        "        file.write(f\"Antecedent: {antecedent}\\n\")\n",
        "        file.write(f\"Consequent: {consequent}\\n\")\n",
        "        file.write(f\"Support: {support_value:.4f}\\n\")\n",
        "        file.write(f\"Confidence: {confidence_value:.4f}\\n\")\n",
        "        file.write(\"---\\n\")\n",
        "\n",
        "\n",
        "# Print the generated association rules with their metrics\n",
        "print(\"Generated Association Rules:\")\n",
        "for rule in generated_association_rules:\n",
        "    antecedent, consequent, support_value, confidence_value = rule\n",
        "    print(f\"Antecedent: {antecedent}\")\n",
        "    print(f\"Consequent: {consequent}\")\n",
        "    print(f\"Support: {support_value:.4f}\")  # formatted for precision\n",
        "    print(f\"Confidence: {confidence_value:.4f}\")  # formatted for precision\n",
        "    print(\"---\")\n",
        "\n"
      ],
      "metadata": {
        "id": "1sFDQ9vFp7Sc"
      },
      "execution_count": null,
      "outputs": []
    },
    {
      "cell_type": "code",
      "execution_count": null,
      "metadata": {
        "colab": {
          "base_uri": "https://localhost:8080/"
        },
        "id": "F3_7LWwK04Qv",
        "outputId": "d383f7ca-b2fd-45cd-b3aa-01c73268784f"
      },
      "outputs": [
        {
          "output_type": "stream",
          "name": "stdout",
          "text": [
            "Mapping: 100% 2/2 [00:19<00:00,  9.85s/it]\n",
            "Process ForkPoolWorker-1:\n",
            "Process ForkPoolWorker-2:\n",
            "Traceback (most recent call last):\n",
            "  File \"/usr/lib/python3.10/multiprocessing/process.py\", line 314, in _bootstrap\n",
            "    self.run()\n",
            "  File \"/usr/lib/python3.10/multiprocessing/process.py\", line 108, in run\n",
            "    self._target(*self._args, **self._kwargs)\n",
            "  File \"/usr/lib/python3.10/multiprocessing/pool.py\", line 114, in worker\n",
            "    task = get()\n",
            "  File \"/usr/lib/python3.10/multiprocessing/queues.py\", line 364, in get\n",
            "    with self._rlock:\n",
            "  File \"/usr/lib/python3.10/multiprocessing/synchronize.py\", line 95, in __enter__\n",
            "    return self._semlock.__enter__()\n",
            "KeyboardInterrupt\n",
            "Traceback (most recent call last):\n",
            "  File \"/usr/lib/python3.10/multiprocessing/process.py\", line 314, in _bootstrap\n",
            "    self.run()\n",
            "  File \"/usr/lib/python3.10/multiprocessing/process.py\", line 108, in run\n",
            "    self._target(*self._args, **self._kwargs)\n",
            "  File \"/usr/lib/python3.10/multiprocessing/pool.py\", line 114, in worker\n",
            "    task = get()\n",
            "  File \"/usr/lib/python3.10/multiprocessing/queues.py\", line 365, in get\n",
            "    res = self._reader.recv_bytes()\n",
            "  File \"/usr/lib/python3.10/multiprocessing/connection.py\", line 216, in recv_bytes\n",
            "    buf = self._recv_bytes(maxlength)\n",
            "  File \"/usr/lib/python3.10/multiprocessing/connection.py\", line 414, in _recv_bytes\n",
            "    buf = self._recv(4)\n",
            "  File \"/usr/lib/python3.10/multiprocessing/connection.py\", line 379, in _recv\n",
            "    chunk = read(handle, remaining)\n",
            "KeyboardInterrupt\n",
            "\n",
            "^C\n"
          ]
        }
      ],
      "source": [
        "!python3 AMDs-Market-basket-analysis/fpgrowth_mr.py"
      ]
    },
    {
      "cell_type": "markdown",
      "metadata": {
        "id": "6ipvTQvOFWjT"
      },
      "source": [
        "#A Priori Algorithm"
      ]
    },
    {
      "cell_type": "code",
      "execution_count": null,
      "metadata": {
        "id": "GRpUbMJVFaG_"
      },
      "outputs": [],
      "source": [
        "\n",
        "# Generating the candidate itemsets of a given size\n",
        "def generate_candidate_itemsets(itemsets, k):\n",
        "\n",
        "    \"\"\"\n",
        "    itemsets: A list of frequent itemsets of size k - 1\n",
        "    k: Size of the frequent itemsets to generate\n",
        "    Returns: A list of candidate itemsets of size k\n",
        "    \"\"\"\n",
        "    candidates = []\n",
        "\n",
        "    for i, itemset1 in enumerate(itemsets):\n",
        "        for itemset2 in itemsets[i+1:]:\n",
        "            if itemset1[:-1] == itemset2[:-1]:\n",
        "                candidates.append(itemset1 + [itemset2[-1]])\n",
        "    return candidates\n",
        "\n",
        "\n",
        "# get the support of itemsets\n",
        "def get_support_of_items(transactions, itemset, min_support):\n",
        "\n",
        "    \"\"\"\n",
        "    min_support: The minimum support threshold\n",
        "    Returns: (Bool, Calculated support of the itemset)\n",
        "    \"\"\"\n",
        "    count = sum(1 for transaction in transactions if all(item in transaction for item in itemset))\n",
        "    support = count / len(transactions)\n",
        "    return support >= min_support, count\n",
        "\n",
        "# Performing Apriori algorithm\n",
        "def apriori_algorithm(transactions, min_support):\n",
        "    \"\"\"\n",
        "    transactions: A list of transactions\n",
        "    min_support: The minimum support threshold\n",
        "    Returns: A list of (itemset, count)\n",
        "    \"\"\"\n",
        "    itemsets = [[item] for item in set(item for transaction in transactions for item in transaction)]\n",
        "    frequent_itemsets = []\n",
        "    k = 1\n",
        "\n",
        "    while itemsets:\n",
        "        candidates = generate_candidate_itemsets(itemsets, k)\n",
        "        itemsets = []\n",
        "        for candidate in candidates:\n",
        "            is_frequent, count = get_support_of_items(transactions, candidate, min_support)\n",
        "            if is_frequent:\n",
        "                itemsets.append(candidate)\n",
        "                frequent_itemsets.append((candidate, count))\n",
        "        k += 1\n",
        "\n",
        "    return frequent_itemsets\n"
      ]
    },
    {
      "cell_type": "markdown",
      "metadata": {
        "id": "yd-4Hc3rcgbY"
      },
      "source": [
        "Benchmark"
      ]
    },
    {
      "cell_type": "code",
      "execution_count": null,
      "metadata": {
        "colab": {
          "base_uri": "https://localhost:8080/"
        },
        "id": "1dCgxYfVafat",
        "outputId": "9bfcd44c-e6bc-4997-dd35-53682c386c3e"
      },
      "outputs": [
        {
          "name": "stdout",
          "output_type": "stream",
          "text": [
            "1000000\n",
            "Size:  100\n",
            "4\n",
            "[(['many', 'way'], 2), (['many', 'like'], 2), (['way', 'like'], 2), (['many', 'way', 'like'], 2)]\n",
            "Time taken:  0.028133869171142578\n",
            "\n"
          ]
        }
      ],
      "source": [
        "min_support = 0.1\n",
        "\n",
        "print(len(transactions))\n",
        "times = []\n",
        "sizes = [100, 1000, 10000, 100000, 200000, len(transactions)]\n",
        "for size in sizes:\n",
        "    if size == sizes[1]:\n",
        "        break\n",
        "    print(\"Size: \", size)\n",
        "    start = time.time()\n",
        "    frequent_itemsets = apriori_algorithm(transactions[:2], min_support*(size)//10)\n",
        "    print(len(frequent_itemsets))\n",
        "    print(frequent_itemsets)\n",
        "    end = time.time()\n",
        "    times.append(end-start)\n",
        "    print(\"Time taken: \", end-start)\n",
        "    print()\n"
      ]
    },
    {
      "cell_type": "code",
      "execution_count": null,
      "metadata": {
        "id": "cmB3yC6Xh7oE"
      },
      "outputs": [],
      "source": []
    },
    {
      "cell_type": "code",
      "execution_count": null,
      "metadata": {
        "id": "9mrAqTXNv_RA"
      },
      "outputs": [],
      "source": []
    }
  ],
  "metadata": {
    "colab": {
      "provenance": [],
      "authorship_tag": "ABX9TyPaNolbxfrxUwXjxbx8x92y",
      "include_colab_link": true
    },
    "kernelspec": {
      "display_name": "Python 3",
      "name": "python3"
    },
    "language_info": {
      "name": "python"
    }
  },
  "nbformat": 4,
  "nbformat_minor": 0
}